{
  "nbformat": 4,
  "nbformat_minor": 0,
  "metadata": {
    "colab": {
      "provenance": [],
      "gpuType": "T4"
    },
    "kernelspec": {
      "name": "python3",
      "display_name": "Python 3"
    },
    "language_info": {
      "name": "python"
    }
  },
  "cells": [
    {
      "cell_type": "code",
      "execution_count": 3,
      "metadata": {
        "id": "PyNluekHatQp"
      },
      "outputs": [],
      "source": [
        "import copy, math\n",
        "import numpy as np\n",
        "import matplotlib.pyplot as plt\n",
        "import matplotlib.colors as colors"
      ]
    },
    {
      "cell_type": "code",
      "source": [
        "\n",
        "# lab_utils_common\n",
        "\n",
        "dlc = dict(dlblue = '#0096ff', dlorange = '#FF9300', dldarkred='#C00000', dlmagenta='#FF40FF', dlpurple='#7030A0')\n",
        "dlblue = '#0096ff'; dlorange = '#FF9300'; dldarkred='#C00000'; dlmagenta='#FF40FF'; dlpurple='#7030A0'\n",
        "dlcolors = [dlblue, dlorange, dldarkred, dlmagenta, dlpurple]\n",
        "\n",
        "def plot_data(X, y, ax, pos_label=\"y=1\", neg_label=\"y=0\", s=80, loc='best' ):\n",
        "    \"\"\" plots logistic data with two axis \"\"\"\n",
        "    # Find Indices of Positive and Negative Examples\n",
        "    pos = y == 1\n",
        "    neg = y == 0\n",
        "    pos = pos.reshape(-1,)  #work with 1D or 1D y vectors\n",
        "    neg = neg.reshape(-1,)\n",
        "\n",
        "    # Plot examples\n",
        "    ax.scatter(X[pos, 0], X[pos, 1], marker='x', s=s, c = 'red', label=pos_label)\n",
        "    ax.scatter(X[neg, 0], X[neg, 1], marker='o', s=s, label=neg_label, facecolors='none', edgecolors=dlblue, lw=3)\n",
        "    ax.legend(loc=loc)\n",
        "\n",
        "    ax.figure.canvas.toolbar_visible = False\n",
        "    ax.figure.canvas.header_visible = False\n",
        "    ax.figure.canvas.footer_visible = False\n",
        "\n",
        "\n",
        "def plt_tumor_data(x, y, ax):\n",
        "    \"\"\" plots tumor data on one axis \"\"\"\n",
        "    pos = y == 1\n",
        "    neg = y == 0\n",
        "\n",
        "    ax.scatter(x[pos], y[pos], marker='x', s=80, c = 'red', label=\"malignant\")\n",
        "    ax.scatter(x[neg], y[neg], marker='o', s=100, label=\"benign\", facecolors='none', edgecolors=dlblue,lw=3)\n",
        "    ax.set_ylim(-0.175,1.1)\n",
        "    ax.set_ylabel('y')\n",
        "    ax.set_xlabel('Tumor Size')\n",
        "    ax.set_title(\"Logistic Regression on Categorical Data\")\n",
        "\n",
        "    ax.figure.canvas.toolbar_visible = False\n",
        "    ax.figure.canvas.header_visible = False\n",
        "    ax.figure.canvas.footer_visible = False\n",
        "\n",
        "\n",
        "def sigmoid(z):\n",
        "    z = np.clip( z, -500, 500 )           # protect against overflow\n",
        "    g = 1.0/(1.0+np.exp(-z))\n",
        "\n",
        "    return g\n",
        "\n",
        "def compute_cost_logistic(X, y, w, b, lambda_=0, safe=False):\n",
        "\n",
        "    m,n = X.shape\n",
        "    cost = 0.0\n",
        "    for i in range(m):\n",
        "        z_i    = np.dot(X[i],w) + b                                             #(n,)(n,) or (n,) ()\n",
        "        if safe:  #avoids overflows\n",
        "            cost += -(y[i] * z_i ) + log_1pexp(z_i)\n",
        "        else:\n",
        "            f_wb_i = sigmoid(z_i)                                                   #(n,)\n",
        "            cost  += -y[i] * np.log(f_wb_i) - (1 - y[i]) * np.log(1 - f_wb_i)       # scalar\n",
        "    cost = cost/m\n",
        "\n",
        "    reg_cost = 0\n",
        "    if lambda_ != 0:\n",
        "        for j in range(n):\n",
        "            reg_cost += (w[j]**2)                                               # scalar\n",
        "        reg_cost = (lambda_/(2*m))*reg_cost\n",
        "\n",
        "    return cost + reg_cost\n"
      ],
      "metadata": {
        "id": "f45jbft6bT0P"
      },
      "execution_count": 4,
      "outputs": []
    },
    {
      "cell_type": "code",
      "source": [
        "\n",
        "#plt_quad_logistics\n",
        "\n",
        "class plt_quad_logistic:\n",
        "    ''' plots a quad plot showing logistic regression '''\n",
        "    # pylint: disable=too-many-instance-attributes\n",
        "    # pylint: disable=too-many-locals\n",
        "    # pylint: disable=missing-function-docstring\n",
        "    # pylint: disable=attribute-defined-outside-init\n",
        "    def __init__(self, x_train,y_train, w_range, b_range):\n",
        "        # setup figure\n",
        "        fig = plt.figure( figsize=(10,6))\n",
        "        fig.canvas.toolbar_visible = False\n",
        "        fig.canvas.header_visible = False\n",
        "        fig.canvas.footer_visible = False\n",
        "        fig.set_facecolor('#ffffff') #white\n",
        "        gs  = GridSpec(2, 2, figure=fig)\n",
        "        ax0 = fig.add_subplot(gs[0, 0])\n",
        "        ax1 = fig.add_subplot(gs[0, 1])\n",
        "        ax2 = fig.add_subplot(gs[1, 0],  projection='3d')\n",
        "        ax3 = fig.add_subplot(gs[1,1])\n",
        "        pos = ax3.get_position().get_points()  ##[[lb_x,lb_y], [rt_x, rt_y]]\n",
        "        h = 0.05\n",
        "        width = 0.2\n",
        "        axcalc   = plt.axes([pos[1,0]-width, pos[1,1]-h, width, h])  #lx,by,w,h\n",
        "        ax = np.array([ax0, ax1, ax2, ax3, axcalc])\n",
        "        self.fig = fig\n",
        "        self.ax = ax\n",
        "        self.x_train = x_train\n",
        "        self.y_train = y_train\n",
        "\n",
        "        self.w = 0. #initial point, non-array\n",
        "        self.b = 0.\n",
        "\n",
        "        # initialize subplots\n",
        "        self.dplot = data_plot(ax[0], x_train, y_train, self.w, self.b)\n",
        "        self.con_plot = contour_and_surface_plot(ax[1], ax[2], x_train, y_train, w_range, b_range, self.w, self.b)\n",
        "        self.cplot = cost_plot(ax[3])\n",
        "\n",
        "        # setup events\n",
        "        self.cid = fig.canvas.mpl_connect('button_press_event', self.click_contour)\n",
        "        self.bcalc = Button(axcalc, 'Run Gradient Descent \\nfrom current w,b (click)', color=dlc[\"dlorange\"])\n",
        "        self.bcalc.on_clicked(self.calc_logistic)\n",
        "\n",
        "#    @output.capture()  # debug\n",
        "    def click_contour(self, event):\n",
        "        ''' called when click in contour '''\n",
        "        if event.inaxes == self.ax[1]:   #contour plot\n",
        "            self.w = event.xdata\n",
        "            self.b = event.ydata\n",
        "\n",
        "            self.cplot.re_init()\n",
        "            self.dplot.update(self.w, self.b)\n",
        "            self.con_plot.update_contour_wb_lines(self.w, self.b)\n",
        "            self.con_plot.path.re_init(self.w, self.b)\n",
        "\n",
        "            self.fig.canvas.draw()\n",
        "\n",
        "\n",
        "def plt_prob(ax, w_out,b_out):\n",
        "    \"\"\" plots a decision boundary but include shading to indicate the probability \"\"\"\n",
        "    #setup useful ranges and common linspaces\n",
        "    x0_space  = np.linspace(0, 4 , 100)\n",
        "    x1_space  = np.linspace(0, 4 , 100)\n",
        "\n",
        "    # get probability for x0,x1 ranges\n",
        "    tmp_x0,tmp_x1 = np.meshgrid(x0_space,x1_space)\n",
        "    z = np.zeros_like(tmp_x0)\n",
        "    for i in range(tmp_x0.shape[0]):\n",
        "        for j in range(tmp_x1.shape[1]):\n",
        "            z[i,j] = sigmoid(np.dot(w_out, np.array([tmp_x0[i,j],tmp_x1[i,j]])) + b_out)\n",
        "\n",
        "\n",
        "    cmap = plt.get_cmap('Blues')\n",
        "    new_cmap = truncate_colormap(cmap, 0.0, 0.5)\n",
        "    pcm = ax.pcolormesh(tmp_x0, tmp_x1, z,\n",
        "                   norm=cm.colors.Normalize(vmin=0, vmax=1),\n",
        "                   cmap=new_cmap, shading='nearest', alpha = 0.9)\n",
        "    ax.figure.colorbar(pcm, ax=ax)"
      ],
      "metadata": {
        "id": "Tnson0zqbUHK"
      },
      "execution_count": 5,
      "outputs": []
    },
    {
      "cell_type": "markdown",
      "source": [
        "DATA SET"
      ],
      "metadata": {
        "id": "yXZH9Di1QLwr"
      }
    },
    {
      "cell_type": "code",
      "source": [
        "X_train = np.array([[0.5, 1.5], [1,1], [1.5, 0.5], [3, 0.5], [2, 2], [1, 2.5]])\n",
        "y_train = np.array([0, 0, 0, 1, 1, 1])"
      ],
      "metadata": {
        "id": "RdNaagxxcIyw"
      },
      "execution_count": 6,
      "outputs": []
    },
    {
      "cell_type": "code",
      "source": [
        "fig, ax = plt.subplots(1,1, figsize = (4,4))\n",
        "plot_data(X_train, y_train, ax)\n",
        "\n",
        "ax.axis([0, 4, 0, 3.5])\n",
        "ax.set_xlabel('$x_0$', fontsize = 12)\n",
        "ax.set_ylabel('$x_1$', fontsize = 12)\n",
        "ax.plot()"
      ],
      "metadata": {
        "colab": {
          "base_uri": "https://localhost:8080/",
          "height": 414
        },
        "id": "lNLCwpxEQSaf",
        "outputId": "586aa035-f85b-45c4-caf6-2a3d19cad4a7"
      },
      "execution_count": 7,
      "outputs": [
        {
          "output_type": "execute_result",
          "data": {
            "text/plain": [
              "[]"
            ]
          },
          "metadata": {},
          "execution_count": 7
        },
        {
          "output_type": "display_data",
          "data": {
            "text/plain": [
              "<Figure size 400x400 with 1 Axes>"
            ],
            "image/png": "[encoded data removed]"
          },
          "metadata": {}
        }
      ]
    },
    {
      "cell_type": "code",
      "source": [
        "def compute_gradient_logistic(X, y, w, b):\n",
        "\n",
        "    m,n = X.shape\n",
        "    dj_dw = np.zeros((n,))                           #(n,)\n",
        "    dj_db = 0.\n",
        "\n",
        "    for i in range(m):\n",
        "        f_wb_i = sigmoid(np.dot(X[i],w) + b)          #(n,)(n,)=scalar\n",
        "        err_i  = f_wb_i  - y[i]                       #scalar\n",
        "        for j in range(n):\n",
        "            dj_dw[j] = dj_dw[j] + err_i * X[i,j]      #scalar\n",
        "        dj_db = dj_db + err_i\n",
        "    dj_dw = dj_dw/m                                   #(n,)\n",
        "    dj_db = dj_db/m                                   #scalar\n",
        "\n",
        "    return dj_db, dj_dw"
      ],
      "metadata": {
        "id": "2_w2peJWR-ql"
      },
      "execution_count": 8,
      "outputs": []
    },
    {
      "cell_type": "markdown",
      "source": [
        "\n",
        "Chechking the implementation.\n",
        "\n"
      ],
      "metadata": {
        "id": "819bgfTyVRD3"
      }
    },
    {
      "cell_type": "code",
      "source": [
        "X_tmp = np.array([[0.5, 1.5], [1,1], [1.5, 0.5], [3, 0.5], [2, 2], [1, 2.5]])\n",
        "y_tmp = np.array([0, 0, 0, 1, 1, 1])\n",
        "w_tmp = np.array([2.,3.])\n",
        "b_tmp = 1.\n",
        "dj_db_tmp, dj_dw_tmp = compute_gradient_logistic(X_tmp, y_tmp, w_tmp, b_tmp)\n",
        "print(f\"dj_db: {dj_db_tmp}\" )\n",
        "print(f\"dj_dw: {dj_dw_tmp.tolist()}\" )"
      ],
      "metadata": {
        "colab": {
          "base_uri": "https://localhost:8080/"
        },
        "id": "GlBgxYoRTo7v",
        "outputId": "651679d2-3181-4cda-d1be-de88779280f8"
      },
      "execution_count": 9,
      "outputs": [
        {
          "output_type": "stream",
          "name": "stdout",
          "text": [
            "dj_db: 0.49861806546328574\n",
            "dj_dw: [0.498333393278696, 0.49883942983996693]\n"
          ]
        }
      ]
    },
    {
      "cell_type": "markdown",
      "source": [
        "The code below will repeat until the convergence, Find the points where the error is at it's least"
      ],
      "metadata": {
        "id": "Md8D3R9LVhlp"
      }
    },
    {
      "cell_type": "code",
      "source": [
        "def gradient_descent(X, y, w_in, b_in, alpha, num_iters):\n",
        "\n",
        "    # An array to store cost J and w's at each iteration primarily for graphing later\n",
        "    J_history = []\n",
        "    w = copy.deepcopy(w_in)  #avoid modifying global w within function\n",
        "    b = b_in\n",
        "\n",
        "    for i in range(num_iters):\n",
        "        # Calculate the gradient and update the parameters\n",
        "        dj_db, dj_dw = compute_gradient_logistic(X, y, w, b)\n",
        "\n",
        "        # Update Parameters using w, b, alpha and gradient\n",
        "        w = w - alpha * dj_dw\n",
        "        b = b - alpha * dj_db\n",
        "\n",
        "        # Save cost J at each iteration\n",
        "        if i<100000:      # prevent resource exhaustion\n",
        "            J_history.append( compute_cost_logistic(X, y, w, b) )\n",
        "\n",
        "        # Print cost every at intervals 10 times or as many iterations if < 10\n",
        "        if i% math.ceil(num_iters / 10) == 0:\n",
        "            print(f\"Iteration {i:4d}: Cost {J_history[-1]}   \")\n",
        "\n",
        "    return w, b, J_history         #return final w,b and J history for graphing\n"
      ],
      "metadata": {
        "id": "QkWlN0VqVXmf"
      },
      "execution_count": 10,
      "outputs": []
    },
    {
      "cell_type": "code",
      "source": [
        "# Gradient Descent on our datasets\n",
        "\n",
        "w_tmp  = np.zeros_like(X_train[0])\n",
        "b_tmp  = 0.\n",
        "alph = 0.1\n",
        "iters = 10000\n",
        "\n",
        "w_out, b_out, _ = gradient_descent(X_train, y_train, w_tmp, b_tmp, alph, iters)\n",
        "print(f\"\\nupdated parameters: w:{w_out}, b:{b_out}\")"
      ],
      "metadata": {
        "colab": {
          "base_uri": "https://localhost:8080/"
        },
        "id": "NAmsx8JNV1c-",
        "outputId": "01a1ee0d-a40a-4355-cd59-7701173da341"
      },
      "execution_count": 11,
      "outputs": [
        {
          "output_type": "stream",
          "name": "stdout",
          "text": [
            "Iteration    0: Cost 0.684610468560574   \n",
            "Iteration 1000: Cost 0.1590977666870457   \n",
            "Iteration 2000: Cost 0.08460064176930078   \n",
            "Iteration 3000: Cost 0.05705327279402531   \n",
            "Iteration 4000: Cost 0.04290759421682   \n",
            "Iteration 5000: Cost 0.03433847729884557   \n",
            "Iteration 6000: Cost 0.02860379802212006   \n",
            "Iteration 7000: Cost 0.02450156960879306   \n",
            "Iteration 8000: Cost 0.02142370332569295   \n",
            "Iteration 9000: Cost 0.019030137124109114   \n",
            "\n",
            "updated parameters: w:[5.28123029 5.07815608], b:-14.222409982019837\n"
          ]
        }
      ]
    },
    {
      "cell_type": "markdown",
      "source": [
        "Plotting the result of Gradient Descent"
      ],
      "metadata": {
        "id": "gwmVNTofWG_S"
      }
    },
    {
      "cell_type": "code",
      "source": [
        "def truncate_colormap(cmap, minval=0.0, maxval=1.0, n=100):\n",
        "    \"\"\" truncates color map \"\"\"\n",
        "    new_cmap = colors.LinearSegmentedColormap.from_list(\n",
        "        'trunc({n},{a:.2f},{b:.2f})'.format(n=cmap.name, a=minval, b=maxval),\n",
        "        cmap(np.linspace(minval, maxval, n)))\n",
        "    return new_cmap"
      ],
      "metadata": {
        "id": "3jkR4o4EWQQp"
      },
      "execution_count": 12,
      "outputs": []
    },
    {
      "cell_type": "code",
      "source": [
        "import matplotlib.cm as cm"
      ],
      "metadata": {
        "id": "bfNA8BYnZm8b"
      },
      "execution_count": 13,
      "outputs": []
    },
    {
      "cell_type": "code",
      "source": [
        "fig,ax = plt.subplots(1,1,figsize=(5,4))\n",
        "# plot the probability\n",
        "plt_prob(ax, w_out, b_out)\n",
        "\n",
        "# Plot the original data\n",
        "ax.set_ylabel(r'$x_1$')\n",
        "ax.set_xlabel(r'$x_0$')\n",
        "ax.axis([0, 4, 0, 3.5])\n",
        "plot_data(X_train,y_train,ax)\n",
        "\n",
        "# Plot the decision boundary\n",
        "x0 = -b_out/w_out[0]\n",
        "x1 = -b_out/w_out[1]\n",
        "ax.plot([0,x0],[x1,0], c=dlc[\"dlblue\"], lw=1)\n",
        "plt.show()"
      ],
      "metadata": {
        "colab": {
          "base_uri": "https://localhost:8080/",
          "height": 394
        },
        "id": "hA5130H4V8bH",
        "outputId": "e832260f-6507-4765-dcc2-e7930e497605"
      },
      "execution_count": 14,
      "outputs": [
        {
          "output_type": "display_data",
          "data": {
            "text/plain": [
              "<Figure size 500x400 with 2 Axes>"
            ],
            "image/png": "[encoded data removed]"
          },
          "metadata": {}
        }
      ]
    },
    {
      "cell_type": "markdown",
      "source": [
        "In the plot above:\n",
        "\n",
        "the shading reflects the probability y=1 (result prior to decision boundary)\n",
        "the decision boundary is the line at which the probability = 0.5"
      ],
      "metadata": {
        "id": "zYvcph03Zz9T"
      }
    },
    {
      "cell_type": "markdown",
      "source": [
        "**Another Data set**"
      ],
      "metadata": {
        "id": "EoZg5QuHZ_IO"
      }
    },
    {
      "cell_type": "code",
      "source": [
        "x_train = np.array([0., 1, 2, 3, 4, 5])\n",
        "y_train = np.array([0,  0, 0, 1, 1, 1])"
      ],
      "metadata": {
        "id": "vWyIOKtMWLAU"
      },
      "execution_count": 15,
      "outputs": []
    },
    {
      "cell_type": "code",
      "source": [
        "fig,ax = plt.subplots(1,1, figsize = (4,3))\n",
        "plt_tumor_data(x_train, y_train, ax)\n",
        "\n",
        "plt.show()"
      ],
      "metadata": {
        "colab": {
          "base_uri": "https://localhost:8080/",
          "height": 333
        },
        "id": "FOD-FvSyaEqz",
        "outputId": "454b578c-2d5e-4df9-cb8c-6886800a7d9f"
      },
      "execution_count": 19,
      "outputs": [
        {
          "output_type": "display_data",
          "data": {
            "text/plain": [
              "<Figure size 400x300 with 1 Axes>"
            ],
            "image/png": "[encoded data removed]"
          },
          "metadata": {}
        }
      ]
    },
    {
      "cell_type": "code",
      "source": [
        "# pip install ipympl\n",
        "%matplotlib widget\n",
        "import matplotlib.gridspec as gridspec"
      ],
      "metadata": {
        "id": "rsDBSnN9b9fx"
      },
      "execution_count": 32,
      "outputs": []
    },
    {
      "cell_type": "code",
      "source": [
        "w_range = np.array([-1, 7])\n",
        "b_range = np.array([1, -14])\n",
        "quad = plt_quad_logistic( x_train, y_train, w_range, b_range )"
      ],
      "metadata": {
        "id": "51jY9YvParYk"
      },
      "execution_count": 34,
      "outputs": []
    },
    {
      "cell_type": "code",
      "source": [],
      "metadata": {
        "id": "ANoLy42_a8Vf"
      },
      "execution_count": 24,
      "outputs": []
    },
    {
      "cell_type": "code",
      "source": [],
      "metadata": {
        "id": "CjwmQlWybuqi"
      },
      "execution_count": null,
      "outputs": []
    }
  ]
}